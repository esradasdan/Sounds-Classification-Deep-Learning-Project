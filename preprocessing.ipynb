{
 "cells": [
  {
   "cell_type": "markdown",
   "metadata": {},
   "source": [
    "Import Libraries"
   ]
  },
  {
   "cell_type": "code",
   "execution_count": 2,
   "metadata": {},
   "outputs": [],
   "source": [
    "import numpy as np\n",
    "import librosa\n",
    "import tensorflow as tf\n",
    "import pandas as pd\n",
    "from scipy.io import wavfile\n",
    "import matplotlib.pyplot as plt\n",
    "from PIL import Image\n",
    "import os\n",
    "import cv2\n",
    "from skimage import color\n",
    "from sklearn.preprocessing import LabelEncoder \n",
    "from sklearn.model_selection import train_test_split"
   ]
  },
  {
   "cell_type": "markdown",
   "metadata": {},
   "source": [
    "Data Manipulation"
   ]
  },
  {
   "cell_type": "code",
   "execution_count": 3,
   "metadata": {},
   "outputs": [],
   "source": [
    "metadata=pd.read_csv(\"UrbanSound8K.csv\")\n",
    "\n",
    "#get filenames in png format from DataFrame\n",
    "for i in range(len(metadata)):  \n",
    "    name=metadata.loc[i,'slice_file_name']\n",
    "    name2=name[:-4]\n",
    "    name2+='.png'\n",
    "    metadata.at[i,'slice_file_name']=name2\n",
    "\n",
    "#get image and normalize\n",
    "def img_to_np_array(path):\n",
    "    path=\"./spectrograms/\" + path \n",
    "    img = cv2.imread(path)\n",
    "    img=cv2.resize(img, (128,128))\n",
    "    img= color.rgb2gray(img)\n",
    "\n",
    "    img= np.array(img)\n",
    "    return img\n",
    "    \n",
    "    \n",
    "x=[]\n",
    "for i in range(len(metadata)): \n",
    "    name=metadata.loc[i,'slice_file_name']\n",
    "    img_array=img_to_np_array(name)\n",
    "    \n",
    "    x.append(img_array)"
   ]
  },
  {
   "cell_type": "markdown",
   "metadata": {},
   "source": [
    "Features & Labels"
   ]
  },
  {
   "cell_type": "code",
   "execution_count": 4,
   "metadata": {},
   "outputs": [],
   "source": [
    "x=np.array(x)   #Feature\n",
    "y=metadata['class'] #Label\n",
    "y=np.array(y)\n",
    "\n",
    "encoder=LabelEncoder()\n",
    "y=encoder.fit_transform(y)"
   ]
  },
  {
   "cell_type": "markdown",
   "metadata": {},
   "source": [
    "Train & Validation & Test"
   ]
  },
  {
   "cell_type": "code",
   "execution_count": 5,
   "metadata": {},
   "outputs": [],
   "source": [
    "# %80 Train, %10 Validation, %10 Test data\n",
    "x_train, x_temporary, y_train, y_temporary= train_test_split(x,y,train_size=0.8) \n",
    "x_val, x_test, y_val, y_test= train_test_split(x_temporary, y_temporary, train_size=0.5)"
   ]
  }
 ],
 "metadata": {
  "kernelspec": {
   "display_name": "Python 3.8.8 ('base')",
   "language": "python",
   "name": "python3"
  },
  "language_info": {
   "codemirror_mode": {
    "name": "ipython",
    "version": 3
   },
   "file_extension": ".py",
   "mimetype": "text/x-python",
   "name": "python",
   "nbconvert_exporter": "python",
   "pygments_lexer": "ipython3",
   "version": "3.8.8"
  },
  "orig_nbformat": 4,
  "vscode": {
   "interpreter": {
    "hash": "40d3a090f54c6569ab1632332b64b2c03c39dcf918b08424e98f38b5ae0af88f"
   }
  }
 },
 "nbformat": 4,
 "nbformat_minor": 2
}
